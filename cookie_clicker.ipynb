{
 "cells": [
  {
   "cell_type": "code",
   "execution_count": null,
   "metadata": {},
   "outputs": [],
   "source": [
    "from selenium import webdriver\n",
    "from selenium.webdriver.common.by import By\n",
    "import time "
   ]
  },
  {
   "cell_type": "code",
   "execution_count": null,
   "metadata": {},
   "outputs": [],
   "source": [
    "SITE_LINK = 'https://orteil.dashnet.org/cookieclicker/'\n",
    "navegador = webdriver.Chrome('C:\\Program Files\\Google\\Chrome\\chromedriver.exe')\n",
    "navegador.maximize_window()\n",
    "\n",
    "time.sleep(2)\n",
    "navegador.get(SITE_LINK)\n",
    "time.sleep(5)\n",
    "\n",
    "# Aceitar cookies\n",
    "navegador.find_element(By.XPATH, '/html/body/div[1]/div/a[1]').click()\n",
    "\n",
    "# Slecionar idioma\n",
    "navegador.find_element(By.XPATH, '/html/body/div/div[2]/div[12]/div/div[1]/div[1]/div[10]').click()\n",
    "time.sleep(8)\n",
    "\n",
    "navegador.find_element(By.XPATH, '/html/body/div/div[2]/div[15]/div[8]/button').click()\n",
    "\n",
    "# Busca o campo de upgrade\n",
    "def pega_melhor_upgrade():\n",
    "    encontrei = False\n",
    "    elemento_atual = 2\n",
    "\n",
    "    while not encontrei:\n",
    "        classes_objeto = navegador.find_element(By.XPATH, f'/html/body/div/div[2]/div[19]/div[3]/div[6]/div[{str(elemento_atual)}]').get_attribute('class')\n",
    "                \n",
    "        if not 'enabled' in classes_objeto:\n",
    "            encontrei = True\n",
    "        else:\n",
    "            elemento_atual += 1\n",
    "\n",
    "    return elemento_atual - 1\n",
    "            \n",
    "def comprar_upgrade():\n",
    "    navegador.find_element(By.XPATH, f'/html/body/div/div[2]/div[19]/div[3]/div[6]/div[{str(pega_melhor_upgrade())}]').click()\n",
    "\n",
    "i = 0\n",
    "\n",
    "# Looping com cliques\n",
    "while True:\n",
    "    if i % 500 == 0 and i != 0:\n",
    "        time.sleep(1)\n",
    "        comprar_upgrade()\n",
    "\n",
    "    navegador.find_element(By.XPATH, '/html/body/div/div[2]/div[15]/div[8]/button').click()\n",
    "    i += 1\n"
   ]
  }
 ],
 "metadata": {
  "kernelspec": {
   "display_name": "Python 3.10.7 64-bit",
   "language": "python",
   "name": "python3"
  },
  "language_info": {
   "codemirror_mode": {
    "name": "ipython",
    "version": 3
   },
   "file_extension": ".py",
   "mimetype": "text/x-python",
   "name": "python",
   "nbconvert_exporter": "python",
   "pygments_lexer": "ipython3",
   "version": "3.10.7"
  },
  "orig_nbformat": 4,
  "vscode": {
   "interpreter": {
    "hash": "99bf3107952ea242b5decbdfafbbd4117feaebf715574d2cdb3a3b952b6a1e5a"
   }
  }
 },
 "nbformat": 4,
 "nbformat_minor": 2
}
